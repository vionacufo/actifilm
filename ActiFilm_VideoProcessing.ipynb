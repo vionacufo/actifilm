{
 "cells": [
  {
   "cell_type": "markdown",
   "metadata": {
    "id": "vQZk-K2rMAHr"
   },
   "source": [
    "Usage:\n",
    "- Change the runtime from CPU to one of the provided GPUs\n",
    "- Run the cells one by one"
   ]
  },
  {
   "cell_type": "code",
   "execution_count": null,
   "metadata": {
    "id": "bo16CVbuLs37"
   },
   "outputs": [],
   "source": [
    "# Install necessary libraries\n",
    "!pip install opencv-python-headless pyqt5 pyqtgraph ultralytics\n",
    "from google.colab import files"
   ]
  },
  {
   "cell_type": "markdown",
   "metadata": {
    "id": "hxUSXSriMDCw"
   },
   "source": [
    "By running this script, you will be able to upload a video as well as choosing a yolo model from the provided list.\n",
    "\n",
    "2 files will be downloaded automatically:\n",
    "- A .json file containing the information of the bounding boxes provided by the yolo model\n",
    "- The annotated video with all the detections that were made\n"
   ]
  },
  {
   "cell_type": "code",
   "execution_count": null,
   "metadata": {
    "id": "kQEqcEl_L9sA"
   },
   "outputs": [],
   "source": [
    "import sys\n",
    "import cv2\n",
    "import numpy as np\n",
    "import json\n",
    "import time\n",
    "import os\n",
    "from ultralytics import YOLO\n",
    "\n",
    "\n",
    "def process_video_colab(video_path, model_name):\n",
    "    \n",
    "    base_name = os.path.splitext(os.path.basename(video_path))[0]\n",
    "    output_video = f\"{base_name}_annotated_{model_name}.mp4\"\n",
    "    output_json = f\"{base_name}_detection_data_{model_name}.json\"\n",
    "\n",
    "    # Load the YOLO model\n",
    "    model = YOLO(model_name)\n",
    "\n",
    "    # Open the video file for reading\n",
    "    cap = cv2.VideoCapture(video_path)\n",
    "    fourcc = cv2.VideoWriter_fourcc(*'mp4v')\n",
    "    out = cv2.VideoWriter(output_video, fourcc, 20.0, (int(cap.get(3)), int(cap.get(4))))\n",
    "\n",
    "    # Initialize list to store detection data\n",
    "    data = []\n",
    "    frame_num = 0\n",
    "    total_frames = int(cap.get(cv2.CAP_PROP_FRAME_COUNT))\n",
    "\n",
    "    while cap.isOpened():\n",
    "\n",
    "        # Read a frame from the video\n",
    "        ret, frame = cap.read()\n",
    "        if not ret:\n",
    "            break\n",
    "\n",
    "        # Perform object detection and tracking on the frame\n",
    "        results = model.track(frame, persist=True)\n",
    "        frame_ = results[0].plot()\n",
    "\n",
    "        # Write the annotated frame to the output video\n",
    "        out.write(frame_)\n",
    "\n",
    "        # Extract detection data and append to the data list\n",
    "        for box in results[0].boxes:\n",
    "            bbox = box.xywh.cpu().numpy()[0]\n",
    "            if hasattr(box, 'id') and box.id is not None:\n",
    "                id_value = int(box.id.cpu().numpy()[0])\n",
    "            else:\n",
    "                id_value = None\n",
    "            data.append({\n",
    "                'frame': int(cap.get(cv2.CAP_PROP_POS_FRAMES)),\n",
    "                'class': int(box.cls.cpu().numpy()[0]),\n",
    "                'confidence': float(box.conf.cpu().numpy()[0]),\n",
    "                'id': id_value,\n",
    "                'x': float(bbox[0]),\n",
    "                'y': float(bbox[1]),\n",
    "                'width': float(bbox[2]),\n",
    "                'height': float(bbox[3])\n",
    "            })\n",
    "\n",
    "    # Release resources\n",
    "    cap.release()\n",
    "    out.release()\n",
    "    cv2.destroyAllWindows()\n",
    "\n",
    "    # Save detection data to JSON file\n",
    "    with open(output_json, 'w') as f:\n",
    "        json.dump(data, f)\n",
    "\n",
    "    print(f\"Output video saved to: {output_video}\")\n",
    "    print(f\"Detection data saved to: {output_json}\")\n",
    "\n",
    "    # Provide download links for the processed files\n",
    "    files.download(output_video)\n",
    "    files.download(output_json)\n",
    "\n",
    "# Upload video file\n",
    "uploaded = files.upload()\n",
    "\n",
    "video_path = None\n",
    "for fn in uploaded.keys():\n",
    "    if fn.endswith(('.mp4', '.avi', '.mov')):\n",
    "        video_path = fn\n",
    "\n",
    "assert video_path is not None, \"Please upload a video file.\"\n",
    "print(f\"Video uploaded: {video_path}\")\n",
    "\n",
    "# Dropdown menu for model selection\n",
    "import ipywidgets as widgets\n",
    "from IPython.display import display\n",
    "\n",
    "model_dropdown = widgets.Dropdown(\n",
    "    options=['yolov8n.pt', 'yolov8s.pt', 'yolov8m.pt', 'yolov8l.pt', 'yolov8x.pt'],\n",
    "    value='yolov8n.pt',\n",
    "    description='Select Model:',\n",
    ")\n",
    "\n",
    "display(model_dropdown)\n",
    "\n",
    "# Button to process the video\n",
    "process_button = widgets.Button(description=\"Process Video\")\n",
    "\n",
    "def on_process_button_clicked(b):\n",
    "    process_video_colab(video_path, model_dropdown.value)\n",
    "\n",
    "process_button.on_click(on_process_button_clicked)\n",
    "\n",
    "display(process_button)"
   ]
  }
 ],
 "metadata": {
  "colab": {
   "authorship_tag": "ABX9TyM1h9FQu/7NAyQEdL7OsGxf",
   "provenance": []
  },
  "kernelspec": {
   "display_name": "Python 3",
   "name": "python3"
  },
  "language_info": {
   "name": "python"
  }
 },
 "nbformat": 4,
 "nbformat_minor": 0
}
